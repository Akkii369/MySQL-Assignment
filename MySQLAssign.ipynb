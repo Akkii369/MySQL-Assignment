{
 "cells": [
  {
   "cell_type": "markdown",
   "id": "4dff3a1e-6406-48ce-83b9-25ac3a661e65",
   "metadata": {},
   "source": [
    "Q1. What is a database? Differentiate between SQL and NoSQL databases.\n",
    "A1. Database: A database is an organized collection of structured information or data, typically stored electronically in a computer system. It allows for efficient data management, retrieval, and manipulation.\n",
    "\n",
    "SQL Databases (Relational Databases):\n",
    "\n",
    "Structure: SQL databases are structured and use tables to organize data. Each table is defined with a schema that includes columns and data types.\n",
    "Query Language: They use SQL (Structured Query Language) for querying and managing data.\n",
    "ACID Compliance: They support ACID (Atomicity, Consistency, Isolation, Durability) properties to ensure reliable transactions.\n",
    "Examples: MySQL, PostgreSQL, Oracle, SQL Server.\n",
    "NoSQL Databases (Non-relational Databases):\n",
    "\n",
    "Structure: NoSQL databases can store data in various formats such as key-value pairs, documents, graphs, or columns.\n",
    "Query Language: They use various query languages or APIs, not necessarily SQL.\n",
    "Scalability: They are designed for horizontal scaling and are often used for large-scale applications with unstructured or semi-structured data.\n",
    "Examples: MongoDB (document-based), Redis (key-value), Cassandra (column-family), Neo4j (graph-based)."
   ]
  },
  {
   "cell_type": "markdown",
   "id": "c5770896-990c-4537-9d65-e2ee76fd7503",
   "metadata": {},
   "source": [
    "Q2. What is DDL? Explain why CREATE, DROP, ALTER, and TRUNCATE are used with an example.\n",
    "A2. DDL (Data Definition Language): DDL is a subset of SQL used to define and manage the structure of a database schema. It includes commands to create, alter, and delete database objects.\n",
    "\n",
    "CREATE: Used to create a new table or other database objects.\n",
    "\n",
    "Example: CREATE TABLE employees (id INT PRIMARY KEY, name VARCHAR(100));\n",
    "DROP: Used to delete an existing table or other database objects.\n",
    "\n",
    "Example: DROP TABLE employees;\n",
    "ALTER: Used to modify the structure of an existing table (e.g., adding or removing columns).\n",
    "\n",
    "Example: ALTER TABLE employees ADD COLUMN email VARCHAR(255);\n",
    "TRUNCATE: Used to remove all records from a table, but the table structure remains intact.\n",
    "\n",
    "Example: TRUNCATE TABLE employees;"
   ]
  },
  {
   "cell_type": "markdown",
   "id": "9317a59c-8322-411c-b41f-b1f84b87f6ee",
   "metadata": {},
   "source": [
    "Q3. What is DML? Explain INSERT, UPDATE, and DELETE with an example.\n",
    "A3. DML (Data Manipulation Language): DML is a subset of SQL used to manage and manipulate data within existing database structures.\n",
    "\n",
    "INSERT: Used to add new rows to a table.\n",
    "\n",
    "Example: INSERT INTO employees (id, name) VALUES (1, 'John Doe');\n",
    "UPDATE: Used to modify existing rows in a table.\n",
    "\n",
    "Example: UPDATE employees SET name = 'Jane Doe' WHERE id = 1;\n",
    "DELETE: Used to remove rows from a table.\n",
    "\n",
    "Example: DELETE FROM employees WHERE id = 1;"
   ]
  },
  {
   "cell_type": "markdown",
   "id": "5033d07b-29a1-46ab-9354-41b1b8d72ce7",
   "metadata": {},
   "source": [
    "Q4. What is DQL? Explain SELECT with an example.\n",
    "A4. DQL (Data Query Language): DQL is a subset of SQL used to query and retrieve data from a database.\n",
    "\n",
    "SELECT: The SELECT statement is used to retrieve data from one or more tables.\n",
    "Example: SELECT name FROM employees WHERE id = 1;"
   ]
  },
  {
   "cell_type": "markdown",
   "id": "e41aa01a-083a-4d50-9af6-c02b68d8b082",
   "metadata": {},
   "source": [
    "Q5. Explain Primary Key and Foreign Key.\n",
    "A5. Primary Key:\n",
    "\n",
    "A primary key is a unique identifier for a record in a table. Each table can have only one primary key.\n",
    "Example: In a table employees, the id column can be a primary key because it uniquely identifies each employee.\n",
    "Foreign Key:\n",
    "\n",
    "A foreign key is a column or a set of columns in one table that refers to the primary key in another table. It establishes a relationship between the two tables.\n",
    "Example: In a table orders, a customer_id column might be a foreign key that references the id column in the customers table."
   ]
  },
  {
   "cell_type": "markdown",
   "id": "9a53bc2d-5479-40cf-a18d-13b66de7d56f",
   "metadata": {},
   "source": [
    "Q6. Write a python code to connect MySQL to Python. Explain the cursor() and execute() method.\n",
    "Here is an example of how to connect to a MySQL database using Python:"
   ]
  },
  {
   "cell_type": "markdown",
   "id": "e65d4c69-e26b-4a84-ad1e-ef8643b411c2",
   "metadata": {},
   "source": [
    "import mysql.connector\n",
    "\n",
    "conn = mysql.connector.connect(\n",
    "    host=\"localhost\",\n",
    "    user=\"root\",\n",
    "    password=\"password\",\n",
    "    database=\"testdb\"\n",
    ")\n",
    "\n",
    "cursor = conn.cursor()\n",
    "\n",
    "cursor.execute(\"SELECT * FROM employees\")\n",
    "\n",
    "results = cursor.fetchall()\n",
    "for row in results:\n",
    "    print(row)\n",
    "\n",
    "cursor.close()\n",
    "conn.close()"
   ]
  },
  {
   "cell_type": "markdown",
   "id": "47436111-f86d-4dbb-a790-a617f7c8902a",
   "metadata": {},
   "source": [
    "Explanation:\n",
    "\n",
    "cursor(): The cursor() method creates a cursor object which is used to execute SQL queries and retrieve data from the database.\n",
    "execute(): The execute() method of the cursor object executes a SQL statement. For example, cursor.execute(\"SELECT * FROM employees\") runs the SQL query to fetch all records from the employees table."
   ]
  },
  {
   "cell_type": "markdown",
   "id": "e40c729b-2207-476b-82b9-046abae1561a",
   "metadata": {},
   "source": [
    "Q7. Give the order of execution of SQL clauses in an SQL query.\n",
    "A7. The order of execution of SQL clauses in a query is:\n",
    "\n",
    "FROM – Determines the tables to be used.\n",
    "JOIN – Combines rows from two or more tables based on a related column.\n",
    "WHERE – Filters rows based on specified conditions.\n",
    "GROUP BY – Groups rows that have the same values into summary rows.\n",
    "HAVING – Filters groups based on specified conditions.\n",
    "SELECT – Specifies the columns to be retrieved.\n",
    "ORDER BY – Sorts the result set based on specified columns.\n",
    "LIMIT/OFFSET – Limits the number of rows returned (if applicable)."
   ]
  },
  {
   "cell_type": "markdown",
   "id": "f9920a0f-6759-4ad1-a37d-f6ab5003aebf",
   "metadata": {},
   "source": [
    "SELECT name\n",
    "FROM employees\n",
    "WHERE department = 'Sales'\n",
    "GROUP BY name\n",
    "HAVING COUNT(*) > 1\n",
    "ORDER BY name;"
   ]
  },
  {
   "cell_type": "code",
   "execution_count": null,
   "id": "f49fd76e-191c-4f8b-aaf1-30678f3de487",
   "metadata": {},
   "outputs": [],
   "source": []
  }
 ],
 "metadata": {
  "kernelspec": {
   "display_name": "Python 3 (ipykernel)",
   "language": "python",
   "name": "python3"
  },
  "language_info": {
   "codemirror_mode": {
    "name": "ipython",
    "version": 3
   },
   "file_extension": ".py",
   "mimetype": "text/x-python",
   "name": "python",
   "nbconvert_exporter": "python",
   "pygments_lexer": "ipython3",
   "version": "3.12.6"
  }
 },
 "nbformat": 4,
 "nbformat_minor": 5
}
